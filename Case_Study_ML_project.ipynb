{
  "cells": [
    {
      "cell_type": "code",
      "execution_count": null,
      "metadata": {
        "id": "CIoUA4776Nit"
      },
      "outputs": [],
      "source": [
        "import numpy as np\n",
        "import pandas as pd\n",
        "import matplotlib.pyplot as plt"
      ]
    },
    {
      "cell_type": "code",
      "execution_count": null,
      "metadata": {
        "id": "vLpn7uHt6a_k"
      },
      "outputs": [],
      "source": [
        "dataset=pd.read_csv('Leads.csv')"
      ]
    },
    {
      "cell_type": "code",
      "execution_count": null,
      "metadata": {
        "id": "g28vEPW56pxg"
      },
      "outputs": [],
      "source": [
        "dataset.head()"
      ]
    },
    {
      "cell_type": "code",
      "execution_count": null,
      "metadata": {
        "id": "Oo3dVZUa6r99"
      },
      "outputs": [],
      "source": [
        "#Checking shape of the dataset\n",
        "dataset.shape"
      ]
    },
    {
      "cell_type": "code",
      "execution_count": null,
      "metadata": {
        "id": "6MGup-qb_2po"
      },
      "outputs": [],
      "source": [
        "#checking columns datatypes\n",
        "dataset.info()"
      ]
    },
    {
      "cell_type": "code",
      "execution_count": null,
      "metadata": {
        "id": "urLEE5DI_5pS"
      },
      "outputs": [],
      "source": [
        "#Checking null value counts\n",
        "dataset.isnull().sum()"
      ]
    },
    {
      "cell_type": "code",
      "execution_count": null,
      "metadata": {
        "id": "qkX-WBsiAB9Y"
      },
      "outputs": [],
      "source": [
        "dataset.describe()"
      ]
    },
    {
      "cell_type": "code",
      "execution_count": null,
      "metadata": {
        "id": "U9H65TtKAfhU"
      },
      "outputs": [],
      "source": [
        "#Renaming column names\n",
        "dataset.columns=dataset.columns.str.replace(' ','_')\n",
        "dataset.head()\n"
      ]
    },
    {
      "cell_type": "code",
      "execution_count": null,
      "metadata": {
        "id": "fgR1ex4BBiSR"
      },
      "outputs": [],
      "source": [
        "#dropping PRospect_ID column as it is not required for the analysis \n",
        "dataset=dataset.drop(['Prospect_ID'],axis=1)\n",
        "dataset.head()"
      ]
    },
    {
      "cell_type": "code",
      "execution_count": null,
      "metadata": {
        "id": "izC3gUkaCI7H"
      },
      "outputs": [],
      "source": [
        "#checking duplicate values\n",
        "#dataset.City.duplicated().sum()"
      ]
    },
    {
      "cell_type": "code",
      "execution_count": null,
      "metadata": {
        "id": "AUhawsGaDAi1"
      },
      "outputs": [],
      "source": [
        "#calculating percentage of null values\n",
        "round((dataset.isnull().sum())*100/(len(dataset)),2)"
      ]
    },
    {
      "cell_type": "code",
      "execution_count": null,
      "metadata": {
        "id": "OLH5rfegJSWl"
      },
      "outputs": [],
      "source": [
        "#Dropping columns having null values more than 45%\n",
        "for i in dataset.columns:\n",
        "  if (dataset[i].isnull().sum())*100/(len(dataset)) >=45:\n",
        "    dataset.drop(i,axis=1,inplace=True)"
      ]
    },
    {
      "cell_type": "code",
      "source": [],
      "metadata": {
        "id": "9LA0a7QVW9KL"
      },
      "execution_count": null,
      "outputs": []
    },
    {
      "cell_type": "code",
      "execution_count": null,
      "metadata": {
        "id": "UVLFUzYuKPVx"
      },
      "outputs": [],
      "source": [
        "dataset"
      ]
    },
    {
      "cell_type": "code",
      "execution_count": null,
      "metadata": {
        "id": "EhDGWh6HMfZ_"
      },
      "outputs": [],
      "source": [
        "dataset['Last_Activity'].value_counts()"
      ]
    },
    {
      "cell_type": "code",
      "execution_count": null,
      "metadata": {
        "id": "d48VcFMMKaxN"
      },
      "outputs": [],
      "source": [
        "dataset.info()"
      ]
    },
    {
      "cell_type": "code",
      "execution_count": null,
      "metadata": {
        "id": "Zohy492XLMtX"
      },
      "outputs": [],
      "source": [
        "#Checking categorical data\n",
        "dataset['Do_Not_Email'].value_counts()"
      ]
    },
    {
      "cell_type": "code",
      "execution_count": null,
      "metadata": {
        "id": "txXYR4LsNBFl"
      },
      "outputs": [],
      "source": [
        "round((dataset.isnull().sum())*100/(len(dataset)),2)"
      ]
    },
    {
      "cell_type": "code",
      "execution_count": null,
      "metadata": {
        "id": "RkG2SKewMHjO"
      },
      "outputs": [],
      "source": [
        "dataset['Country'].value_counts()"
      ]
    },
    {
      "cell_type": "code",
      "execution_count": null,
      "metadata": {
        "id": "hySvqG0vOGuj"
      },
      "outputs": [],
      "source": [
        "#Replacing null values with mode value . As COuntry India has max number of counts so replacing null values with India.\n",
        "dataset['Country']=dataset['Country'].fillna('India')"
      ]
    },
    {
      "cell_type": "code",
      "execution_count": null,
      "metadata": {
        "id": "nmU4Y_1sPj4V"
      },
      "outputs": [],
      "source": [
        "#Checking null values \n",
        "dataset['Country'].isnull().sum()\n"
      ]
    },
    {
      "cell_type": "code",
      "execution_count": null,
      "metadata": {
        "id": "kSdaVVudPm3m"
      },
      "outputs": [],
      "source": [
        "#Checking category wise counts\n",
        "dataset['Specialization'].value_counts() "
      ]
    },
    {
      "cell_type": "code",
      "execution_count": null,
      "metadata": {
        "id": "Q9iZ3Pn2P-Z_"
      },
      "outputs": [],
      "source": [
        "#Replacing 'Sample' category value with 'Not specified' values\n",
        "dataset['Specialization']=dataset['Specialization'].replace('Sample','Not Specified')"
      ]
    },
    {
      "cell_type": "code",
      "execution_count": null,
      "metadata": {
        "id": "NNtuyWxlb52A"
      },
      "outputs": [],
      "source": [
        "#Replacing Null values with 'Not specified' values\n",
        "dataset['Specialization']=dataset['Specialization'].fillna('Not Specified')"
      ]
    },
    {
      "cell_type": "code",
      "execution_count": null,
      "metadata": {
        "id": "sMYqqJ-hP-cv"
      },
      "outputs": [],
      "source": [
        "dataset['Specialization'].value_counts()"
      ]
    },
    {
      "cell_type": "code",
      "execution_count": null,
      "metadata": {
        "id": "4RT3qH-XP-ge"
      },
      "outputs": [],
      "source": [
        "#Checking category wise counts\n",
        "dataset['How_did_you_hear_about_X_Education'].value_counts()"
      ]
    },
    {
      "cell_type": "code",
      "execution_count": null,
      "metadata": {
        "id": "zllAYGMyRTVt"
      },
      "outputs": [],
      "source": [
        "#There are more than 50% records are 'Select' category so we can drop this column\n",
        "dataset=dataset.drop(['How_did_you_hear_about_X_Education'],axis=1)"
      ]
    },
    {
      "cell_type": "code",
      "execution_count": null,
      "metadata": {
        "id": "ygpSWYTdSJCg"
      },
      "outputs": [],
      "source": [
        "#Checking category wise counts\n",
        "dataset['What_is_your_current_occupation'].value_counts()\n"
      ]
    },
    {
      "cell_type": "code",
      "execution_count": null,
      "metadata": {
        "id": "Cg9iWgucSLZc"
      },
      "outputs": [],
      "source": [
        "#Replacing Null values with 'Unemployed' values i.e mode value of column\n",
        "dataset['What_is_your_current_occupation']=dataset['What_is_your_current_occupation'].fillna('Unemployed')"
      ]
    },
    {
      "cell_type": "code",
      "execution_count": null,
      "metadata": {
        "id": "5Rz7JytpSoc_"
      },
      "outputs": [],
      "source": [
        "#Checking category wise counts\n",
        "dataset['What_matters_most_to_you_in_choosing_a_course'].value_counts()\n"
      ]
    },
    {
      "cell_type": "code",
      "execution_count": null,
      "metadata": {
        "id": "2hK7OjCeSqEa"
      },
      "outputs": [],
      "source": [
        "#As there is a data imbalance in 'What_matters_most_to_you_in_choosing_a_course' column so we can drop this column.\n",
        "dataset=dataset.drop(['What_matters_most_to_you_in_choosing_a_course'],axis=1)"
      ]
    },
    {
      "cell_type": "code",
      "execution_count": null,
      "metadata": {
        "id": "Ezepa5iLTlUN"
      },
      "outputs": [],
      "source": [
        "#Checking Null values count\n",
        "dataset['Tags'].isnull().sum()"
      ]
    },
    {
      "cell_type": "code",
      "execution_count": null,
      "metadata": {
        "id": "-W_9y3lgTULs"
      },
      "outputs": [],
      "source": [
        "#Checking category wise counts\n",
        "dataset['Tags'].value_counts()"
      ]
    },
    {
      "cell_type": "code",
      "execution_count": null,
      "metadata": {
        "id": "094SlxRBTUPY"
      },
      "outputs": [],
      "source": [
        "dataset['Tags']=dataset['Tags'].replace(np.nan,'Not Specified')"
      ]
    },
    {
      "cell_type": "code",
      "execution_count": null,
      "metadata": {
        "id": "_srUwWp4VfpW"
      },
      "outputs": [],
      "source": [
        "dataset['Tags'].value_counts()"
      ]
    },
    {
      "cell_type": "code",
      "execution_count": null,
      "metadata": {
        "id": "Aqa-0KT0XZjL"
      },
      "outputs": [],
      "source": [
        "import seaborn as sns\n",
        "plt.figure(figsize=(15,5))\n",
        "s1=sns.countplot(dataset['Tags'], hue=dataset.Converted)\n",
        "s1.set_xticklabels(s1.get_xticklabels(),rotation=90)\n",
        "plt.show()"
      ]
    },
    {
      "cell_type": "code",
      "execution_count": null,
      "metadata": {
        "id": "Uv06kplPTUTF"
      },
      "outputs": [],
      "source": [
        "#Replcaing low frequency catgeories with Other_Tags category\n",
        "dataset['Tags']=dataset['Tags'].replace(['In confusion whether part time or DLP', 'in touch with EINS','Diploma holder (Not Eligible)',\n",
        "                                     'Approached upfront','Graduation in progress','number not provided', 'opp hangup','Still Thinking',\n",
        "                                    'Lost to Others','Shall take in the next coming month','Lateral student','Interested in Next batch',\n",
        "                                    'Recognition issue (DEC approval)','Want to take admission but has financial problems',\n",
        "                                    'University not recognized'], 'Other_Tags')"
      ]
    },
    {
      "cell_type": "code",
      "execution_count": null,
      "metadata": {
        "id": "fbLe4uBGXiU4"
      },
      "outputs": [],
      "source": [
        "dataset['Tags']=dataset['Tags'].replace(['switched off',\n",
        "                                      'Already a student',\n",
        "                                       'Not doing further education',\n",
        "                                       'invalid number',\n",
        "                                       'wrong number given',\n",
        "                                       'Interested  in full time MBA'] , 'Other_Tags')"
      ]
    },
    {
      "cell_type": "code",
      "execution_count": null,
      "metadata": {
        "id": "PT89fyRnWGCo"
      },
      "outputs": [],
      "source": [
        "dataset['Tags'].value_counts()"
      ]
    },
    {
      "cell_type": "code",
      "execution_count": null,
      "metadata": {
        "id": "R7p-nD4rXk5j"
      },
      "outputs": [],
      "source": [
        "dataset['Tags'].value_counts()"
      ]
    },
    {
      "cell_type": "code",
      "execution_count": null,
      "metadata": {
        "id": "lhYL-e-EYIDO"
      },
      "outputs": [],
      "source": [
        "import seaborn as sns\n",
        "plt.figure(figsize=(15,5))\n",
        "s1=sns.countplot(dataset['Tags'], hue=dataset.Converted)\n",
        "s1.set_xticklabels(s1.get_xticklabels(),rotation=90)\n",
        "plt.show()"
      ]
    },
    {
      "cell_type": "code",
      "execution_count": null,
      "metadata": {
        "id": "pcsVS2DHYIEl"
      },
      "outputs": [],
      "source": [
        "#Checking category wise counts\n",
        "dataset['Lead_Profile'].value_counts()"
      ]
    },
    {
      "cell_type": "code",
      "execution_count": null,
      "metadata": {
        "id": "Kwl_xRAYYIHE"
      },
      "outputs": [],
      "source": [
        "#Replacing 'Sample' category value with 'Not specified' values\n",
        "dataset['Lead_Profile']=dataset['Lead_Profile'].replace('Select','Not Specified')"
      ]
    },
    {
      "cell_type": "code",
      "execution_count": null,
      "metadata": {
        "id": "jqZXhNWoaULU"
      },
      "outputs": [],
      "source": [
        "#Replacing Null value with 'Not specified' values\n",
        "dataset['Lead_Profile']=dataset['Lead_Profile'].fillna('Not Specified')"
      ]
    },
    {
      "cell_type": "code",
      "execution_count": null,
      "metadata": {
        "id": "plGieF48YIKr"
      },
      "outputs": [],
      "source": [
        "dataset['Lead_Profile'].value_counts()"
      ]
    },
    {
      "cell_type": "code",
      "execution_count": null,
      "metadata": {
        "id": "C18teZ7Ya5s9"
      },
      "outputs": [],
      "source": [
        "#We will visualize and then drop LEad_profile column as there are more than 70% valeus are not specified"
      ]
    },
    {
      "cell_type": "code",
      "execution_count": null,
      "metadata": {
        "id": "hvjeQV_rbDh6"
      },
      "outputs": [],
      "source": [
        "dataset['City'].value_counts()"
      ]
    },
    {
      "cell_type": "code",
      "execution_count": null,
      "metadata": {
        "id": "ZgKcZk9xbDlX"
      },
      "outputs": [],
      "source": [
        "#Replacing 'Sample' category value with 'Not specified' values\n",
        "dataset['City']=dataset['City'].replace('Select','Not Specified')"
      ]
    },
    {
      "cell_type": "code",
      "execution_count": null,
      "metadata": {
        "id": "fiL20mtLbQ22"
      },
      "outputs": [],
      "source": [
        "#Replacing Null value with 'Not specified' values\n",
        "dataset['City']=dataset['City'].fillna('Not Specified')"
      ]
    },
    {
      "cell_type": "code",
      "execution_count": null,
      "metadata": {
        "id": "90-udyhKbfMe"
      },
      "outputs": [],
      "source": [
        "dataset['City'].value_counts()"
      ]
    },
    {
      "cell_type": "code",
      "execution_count": null,
      "metadata": {
        "id": "gW3wgp0EbjYa"
      },
      "outputs": [],
      "source": [
        "dataset.isnull().sum()"
      ]
    },
    {
      "cell_type": "code",
      "execution_count": null,
      "metadata": {
        "id": "ySaZmIocbzYB"
      },
      "outputs": [],
      "source": [
        "dataset['Lead_Source'].value_counts()"
      ]
    },
    {
      "cell_type": "code",
      "execution_count": null,
      "metadata": {
        "id": "4dpr0D-gctSz"
      },
      "outputs": [],
      "source": [
        "dataset['Lead_Source']=dataset['Lead_Source'].fillna('Google')"
      ]
    },
    {
      "cell_type": "code",
      "execution_count": null,
      "metadata": {
        "id": "2KM-zvaXdIf0"
      },
      "outputs": [],
      "source": [
        "dataset['Lead_Source']=dataset['Lead_Source'].replace('google','Google')"
      ]
    },
    {
      "cell_type": "code",
      "execution_count": null,
      "metadata": {
        "id": "QiNVGL2edLob"
      },
      "outputs": [],
      "source": [
        "dataset['Lead_Source'].value_counts()"
      ]
    },
    {
      "cell_type": "code",
      "execution_count": null,
      "metadata": {
        "id": "dRr8i8oedO-h"
      },
      "outputs": [],
      "source": [
        "dataset['TotalVisits'].value_counts()"
      ]
    },
    {
      "cell_type": "code",
      "execution_count": null,
      "metadata": {
        "id": "3-YfoMT7dafV"
      },
      "outputs": [],
      "source": [
        "round(np.mean(dataset['TotalVisits']),2)"
      ]
    },
    {
      "cell_type": "code",
      "execution_count": null,
      "metadata": {
        "id": "FNKNYJRgPBr4"
      },
      "outputs": [],
      "source": [
        "dataset['TotalVisits']=dataset['TotalVisits'].fillna(3.0)\n"
      ]
    },
    {
      "cell_type": "code",
      "execution_count": null,
      "metadata": {
        "id": "GBPvHaqsPovF"
      },
      "outputs": [],
      "source": [
        "round(np.mean(dataset['Page_Views_Per_Visit']),2)"
      ]
    },
    {
      "cell_type": "code",
      "execution_count": null,
      "metadata": {
        "id": "ExK38qLnXFwf"
      },
      "outputs": [],
      "source": [
        "dataset['Specialization']=dataset['Specialization'].replace('Select','Not Specified')\n"
      ]
    },
    {
      "cell_type": "code",
      "execution_count": null,
      "metadata": {
        "id": "fzZumHgOXOnU"
      },
      "outputs": [],
      "source": [
        "dataset['Specialization'].value_counts()"
      ]
    },
    {
      "cell_type": "code",
      "execution_count": null,
      "metadata": {
        "id": "pKbHYOasPr1s"
      },
      "outputs": [],
      "source": [
        "dataset['Page_Views_Per_Visit']=dataset['Page_Views_Per_Visit'].fillna(2.36)"
      ]
    },
    {
      "cell_type": "code",
      "execution_count": null,
      "metadata": {
        "id": "KLEIEXc0QLjh"
      },
      "outputs": [],
      "source": [
        "dataset['Last_Activity'].value_counts()\n",
        "  "
      ]
    },
    {
      "cell_type": "code",
      "execution_count": null,
      "metadata": {
        "id": "3WKU7KHhQcfx"
      },
      "outputs": [],
      "source": [
        "dataset['Last_Activity']=dataset['Last_Activity'].fillna('Others')"
      ]
    },
    {
      "cell_type": "code",
      "execution_count": null,
      "metadata": {
        "id": "IXCTzusKQyGn"
      },
      "outputs": [],
      "source": [
        "dataset['Last_Activity'].isnull().sum()"
      ]
    },
    {
      "cell_type": "code",
      "execution_count": null,
      "metadata": {
        "id": "_rY2ziggQ4JJ"
      },
      "outputs": [],
      "source": [
        "dataset.isnull().sum()"
      ]
    },
    {
      "cell_type": "markdown",
      "metadata": {
        "id": "uCF91rScRAqX"
      },
      "source": [
        "#Check data imbalance"
      ]
    },
    {
      "cell_type": "code",
      "execution_count": null,
      "metadata": {
        "id": "nwY2Mog-Q7gr"
      },
      "outputs": [],
      "source": [
        "dataset.info()"
      ]
    },
    {
      "cell_type": "code",
      "execution_count": null,
      "metadata": {
        "id": "vPDBOSdERVWZ"
      },
      "outputs": [],
      "source": [
        "dataset.head()"
      ]
    },
    {
      "cell_type": "code",
      "execution_count": null,
      "metadata": {
        "id": "jMvIyAJwRM7g"
      },
      "outputs": [],
      "source": [
        "dataset['Search'].value_counts()"
      ]
    },
    {
      "cell_type": "code",
      "execution_count": null,
      "metadata": {
        "id": "pmNuXpRPRmoE"
      },
      "outputs": [],
      "source": [
        "dataset['Do_Not_Call'].value_counts()"
      ]
    },
    {
      "cell_type": "code",
      "execution_count": null,
      "metadata": {
        "id": "715v6gUcRuzO"
      },
      "outputs": [],
      "source": [
        "dataset['Through_Recommendations'].value_counts()\n"
      ]
    },
    {
      "cell_type": "code",
      "execution_count": null,
      "metadata": {
        "id": "GLEjsfN5SMBr"
      },
      "outputs": [],
      "source": [
        "dataset['Receive_More_Updates_About_Our_Courses'].value_counts()\n"
      ]
    },
    {
      "cell_type": "code",
      "execution_count": null,
      "metadata": {
        "id": "h6BafcgRSUJP"
      },
      "outputs": [],
      "source": [
        "dataset['Update_me_on_Supply_Chain_Content'].value_counts()\n"
      ]
    },
    {
      "cell_type": "code",
      "execution_count": null,
      "metadata": {
        "id": "K5QDEOKDSdp2"
      },
      "outputs": [],
      "source": [
        "dataset['Get_updates_on_DM_Content'].value_counts()\n"
      ]
    },
    {
      "cell_type": "code",
      "execution_count": null,
      "metadata": {
        "id": "e5gqN0pZSkOp"
      },
      "outputs": [],
      "source": [
        "dataset['I_agree_to_pay_the_amount_through_cheque'].value_counts()\n"
      ]
    },
    {
      "cell_type": "code",
      "execution_count": null,
      "metadata": {
        "id": "7TCn5IXrSqkw"
      },
      "outputs": [],
      "source": [
        "dataset['A_free_copy_of_Mastering_The_Interview'].value_counts()\n"
      ]
    },
    {
      "cell_type": "code",
      "execution_count": null,
      "metadata": {
        "id": "UyuU67rjSx7N"
      },
      "outputs": [],
      "source": [
        "dataset['Country'].value_counts()\n"
      ]
    },
    {
      "cell_type": "code",
      "execution_count": null,
      "metadata": {
        "id": "L5BM5NxmTFRe"
      },
      "outputs": [],
      "source": [
        "plt.figure(figsize=(15,5))\n",
        "s1=sns.countplot(dataset.Country, hue=dataset.Converted)\n",
        "s1.set_xticklabels(s1.get_xticklabels(),rotation=90)\n",
        "plt.show()"
      ]
    },
    {
      "cell_type": "code",
      "execution_count": null,
      "metadata": {
        "id": "k0IwVL1KWJLu"
      },
      "outputs": [],
      "source": [
        "dataset['Specialization'].value_counts()\n"
      ]
    },
    {
      "cell_type": "code",
      "execution_count": null,
      "metadata": {
        "id": "TnCFEzPDWjNk"
      },
      "outputs": [],
      "source": [
        "plt.figure(figsize=(15,5))\n",
        "s1=sns.countplot(dataset.Specialization, hue=dataset.Converted)\n",
        "s1.set_xticklabels(s1.get_xticklabels(),rotation=90)\n",
        "plt.show()"
      ]
    },
    {
      "cell_type": "code",
      "execution_count": null,
      "metadata": {
        "id": "uPL1aUSAW-MH"
      },
      "outputs": [],
      "source": [
        "\n",
        "#We can see specialization related to Management are having higher number leads converted as compared to other specialization so we can not drop this feature as it is significant ."
      ]
    },
    {
      "cell_type": "code",
      "execution_count": null,
      "metadata": {
        "id": "Nk_T-tftYADP"
      },
      "outputs": [],
      "source": [
        "dataset['What_is_your_current_occupation'].value_counts()\n"
      ]
    },
    {
      "cell_type": "code",
      "execution_count": null,
      "metadata": {
        "id": "M__fO3hwYAE_"
      },
      "outputs": [],
      "source": [
        "s1=sns.countplot(dataset['What_is_your_current_occupation'], hue=dataset.Converted)\n",
        "s1.set_xticklabels(s1.get_xticklabels(),rotation=90)\n",
        "plt.show()"
      ]
    },
    {
      "cell_type": "code",
      "execution_count": null,
      "metadata": {
        "id": "B8BCHtBWYAHz"
      },
      "outputs": [],
      "source": [
        "#Working professions are mostl likely to be converted into leads."
      ]
    },
    {
      "cell_type": "code",
      "execution_count": null,
      "metadata": {
        "id": "4ueFM1hfY-pG"
      },
      "outputs": [],
      "source": [
        "dataset['Magazine'].value_counts()\n"
      ]
    },
    {
      "cell_type": "code",
      "execution_count": null,
      "metadata": {
        "id": "_z2_B8xtY-rC"
      },
      "outputs": [],
      "source": [
        "dataset['Newspaper_Article'].value_counts()"
      ]
    },
    {
      "cell_type": "code",
      "execution_count": null,
      "metadata": {
        "id": "Gn4PlrH1ZX98"
      },
      "outputs": [],
      "source": [
        "dataset['X_Education_Forums'].value_counts()\n",
        "\n"
      ]
    },
    {
      "cell_type": "code",
      "execution_count": null,
      "metadata": {
        "id": "Xfo4d8tHZbEy"
      },
      "outputs": [],
      "source": [
        "dataset['Newspaper'].value_counts()\n",
        " "
      ]
    },
    {
      "cell_type": "code",
      "execution_count": null,
      "metadata": {
        "id": "_yGHwfhyZkHY"
      },
      "outputs": [],
      "source": [
        "dataset['Digital_Advertisement'].value_counts()"
      ]
    },
    {
      "cell_type": "code",
      "execution_count": null,
      "metadata": {
        "id": "9ysmbe6QZp3N"
      },
      "outputs": [],
      "source": [
        "dataset=dataset.drop(['Search','Lead_Number','Do_Not_Call','Do_Not_Email','Through_Recommendations','Receive_More_Updates_About_Our_Courses','Update_me_on_Supply_Chain_Content','Get_updates_on_DM_Content','I_agree_to_pay_the_amount_through_cheque','Country','Magazine','Newspaper_Article','X_Education_Forums','Newspaper','Digital_Advertisement'],axis=1)"
      ]
    },
    {
      "cell_type": "code",
      "execution_count": null,
      "metadata": {
        "id": "KeTgGpHoaNt3"
      },
      "outputs": [],
      "source": [
        "dataset.info()"
      ]
    },
    {
      "cell_type": "code",
      "execution_count": null,
      "metadata": {
        "id": "zcGo3tmFbCKw"
      },
      "outputs": [],
      "source": [
        "sns.heatmap(dataset.corr(),annot=True)"
      ]
    },
    {
      "cell_type": "code",
      "execution_count": null,
      "metadata": {
        "id": "VmEOjF0Nbqp5"
      },
      "outputs": [],
      "source": [
        "#We can understand there is a positive relationship between Total_Time_Spent_on_Website and Converted and there is no\n",
        "# relation between Page_Views_Per_Visit and Converted so we can drop this column\n",
        "\n",
        "dataset=dataset.drop(['Page_Views_Per_Visit'],axis=1)"
      ]
    },
    {
      "cell_type": "code",
      "execution_count": null,
      "metadata": {
        "id": "4kk_CH3Jc8_6"
      },
      "outputs": [],
      "source": [
        "dataset['Last_Notable_Activity'].value_counts()"
      ]
    },
    {
      "cell_type": "code",
      "execution_count": null,
      "metadata": {
        "id": "TFW0pzvjeQLe"
      },
      "outputs": [],
      "source": [
        "#We can replace low frequency values\n",
        "dataset['Last_Notable_Activity'] = dataset['Last_Notable_Activity'].replace(['Had a Phone Conversation',\n",
        "                                                                       'Email Marked Spam',\n",
        "                                                                         'Unreachable',\n",
        "                                                                         'Unsubscribed',\n",
        "                                                                         'Email Bounced',                                                                    \n",
        "                                                                       'Resubscribed to emails',\n",
        "                                                                       'View in browser link Clicked',\n",
        "                                                                       'Approached upfront', \n",
        "                                                                       'Form Submitted on Website', \n",
        "                                                                       'Email Received'],'Other_Notable_activity')"
      ]
    },
    {
      "cell_type": "code",
      "execution_count": null,
      "metadata": {
        "id": "PfP0srq_ep3e"
      },
      "outputs": [],
      "source": [
        "dataset['Last_Notable_Activity'].value_counts()"
      ]
    },
    {
      "cell_type": "code",
      "execution_count": null,
      "metadata": {
        "id": "V2y6ecEper5u"
      },
      "outputs": [],
      "source": [
        "plt.figure(figsize = (14,5))\n",
        "ax1=sns.countplot(x = \"Last_Notable_Activity\", hue = \"Converted\", data = dataset)\n",
        "ax1.set_xticklabels(ax1.get_xticklabels(),rotation=90)\n",
        "plt.show()"
      ]
    },
    {
      "cell_type": "code",
      "execution_count": null,
      "metadata": {
        "id": "C3u1ELoRewIA"
      },
      "outputs": [],
      "source": [
        "cat_columns=dataset.select_dtypes(include=['object']).columns\n",
        "cat_columns"
      ]
    },
    {
      "cell_type": "code",
      "execution_count": null,
      "metadata": {
        "id": "JeO_Cc_vgGsI"
      },
      "outputs": [],
      "source": [
        "dataset['Lead_Source'].value_counts()"
      ]
    },
    {
      "cell_type": "code",
      "execution_count": null,
      "metadata": {
        "id": "4dez_UHSgek4"
      },
      "outputs": [],
      "source": [
        "dataset['Lead_Source'] = dataset['Lead_Source'].replace(['bing','Click2call','Press_Release','Live Chat','Pay per Click Ads','blog','WeLearn'\n",
        ",'welearnblog_Home','youtubechannel','testone','NC_EDM'],'Others')"
      ]
    },
    {
      "cell_type": "code",
      "execution_count": null,
      "metadata": {
        "id": "xEk7SKLtinD_"
      },
      "outputs": [],
      "source": [
        "dataset['Lead_Source'] = dataset['Lead_Source'].replace(['Social Media'],'Facebook')"
      ]
    },
    {
      "cell_type": "code",
      "execution_count": null,
      "metadata": {
        "id": "p3SnFnj2irVc"
      },
      "outputs": [],
      "source": [
        "dataset['Lead_Source'].value_counts()"
      ]
    },
    {
      "cell_type": "code",
      "execution_count": null,
      "metadata": {
        "id": "KUedmki8is1z"
      },
      "outputs": [],
      "source": [
        "dataset['Last_Activity'].value_counts()"
      ]
    },
    {
      "cell_type": "code",
      "execution_count": null,
      "metadata": {
        "id": "5Mise8cni2Yw"
      },
      "outputs": [],
      "source": [
        "dataset['Last_Activity'] = dataset['Last_Activity'].replace(['Unreachable','Unsubscribed','Unsubscribed','Had a Phone Conversation','Approached upfront','View in browser link Clicked',\n",
        "                                                             'Email Received'\n",
        ",'Email Marked Spam','Visited Booth in Tradeshow','Resubscribed to emails'],'Others')"
      ]
    },
    {
      "cell_type": "code",
      "execution_count": null,
      "metadata": {
        "id": "waqPMCZRjVsY"
      },
      "outputs": [],
      "source": [
        "dataset['Last_Activity'].value_counts()"
      ]
    },
    {
      "cell_type": "code",
      "execution_count": null,
      "metadata": {
        "id": "wg7i4xqHjV1m"
      },
      "outputs": [],
      "source": [
        "dataset1=dataset"
      ]
    },
    {
      "cell_type": "code",
      "execution_count": null,
      "metadata": {
        "id": "eZs6iDlZj7BF"
      },
      "outputs": [],
      "source": [
        "dataset1"
      ]
    },
    {
      "cell_type": "code",
      "execution_count": null,
      "metadata": {
        "id": "Z7vv7aHmnDG2"
      },
      "outputs": [],
      "source": [
        "from sklearn.preprocessing import LabelEncoder\n",
        "le=LabelEncoder()\n",
        "clist=['Lead_Origin','Lead_Source','Last_Activity','Specialization','What_is_your_current_occupation','Tags','Lead_Profile','City','A_free_copy_of_Mastering_The_Interview','Last_Notable_Activity']\n",
        "\n",
        "for i in clist:\n",
        "  dataset[i]=le.fit_transform(dataset[i])\n",
        "\n"
      ]
    },
    {
      "cell_type": "code",
      "execution_count": null,
      "metadata": {
        "id": "AfEdpdK_kRRy"
      },
      "outputs": [],
      "source": [
        "x=dataset.drop('Converted',axis=1).values"
      ]
    },
    {
      "cell_type": "code",
      "execution_count": null,
      "metadata": {
        "id": "DfWaYwHCkRgQ"
      },
      "outputs": [],
      "source": [
        "x"
      ]
    },
    {
      "cell_type": "code",
      "execution_count": null,
      "metadata": {
        "id": "QlI6RLkRkrGq"
      },
      "outputs": [],
      "source": [
        "y=dataset.iloc[:,2].values\n",
        "y"
      ]
    },
    {
      "cell_type": "code",
      "execution_count": null,
      "metadata": {
        "id": "ghhysInZk4F4"
      },
      "outputs": [],
      "source": [
        "dataset.info()"
      ]
    },
    {
      "cell_type": "code",
      "execution_count": null,
      "metadata": {
        "id": "L96754BYkNlU"
      },
      "outputs": [],
      "source": [
        "from sklearn.model_selection import train_test_split\n",
        "x_train,x_test,y_train,y_test=train_test_split(x,y,test_size=0.2,random_state=1)"
      ]
    },
    {
      "cell_type": "code",
      "execution_count": null,
      "metadata": {
        "id": "xX-V8RwIorRv"
      },
      "outputs": [],
      "source": [
        "from sklearn.preprocessing import StandardScaler\n",
        "sc=StandardScaler()\n",
        "x_train=sc.fit_transform(x_train)\n",
        "x_test=sc.fit_transform(x_test)"
      ]
    },
    {
      "cell_type": "code",
      "execution_count": null,
      "metadata": {
        "id": "E48u3o8wpAlq"
      },
      "outputs": [],
      "source": [
        "x_train"
      ]
    },
    {
      "cell_type": "code",
      "execution_count": null,
      "metadata": {
        "id": "632BswrcpAn_"
      },
      "outputs": [],
      "source": [
        "from sklearn.linear_model import LogisticRegression\n",
        "model=LogisticRegression()\n",
        "model1=model.fit(x_train,y_train)"
      ]
    },
    {
      "cell_type": "code",
      "execution_count": null,
      "metadata": {
        "id": "VYLgiK4epAtU"
      },
      "outputs": [],
      "source": [
        "y_pred=model1.predict(x_test)"
      ]
    },
    {
      "cell_type": "code",
      "execution_count": null,
      "metadata": {
        "id": "Z_R4cMnHpbiO"
      },
      "outputs": [],
      "source": [
        "from sklearn.metrics import confusion_matrix,accuracy_score\n",
        "cm=confusion_matrix(y_test,y_pred)"
      ]
    },
    {
      "cell_type": "code",
      "execution_count": null,
      "metadata": {
        "id": "tBKn6Jukplgy"
      },
      "outputs": [],
      "source": [
        "cm"
      ]
    },
    {
      "cell_type": "code",
      "execution_count": null,
      "metadata": {
        "id": "W4_p08dwpm5s"
      },
      "outputs": [],
      "source": [
        "accuracy_score(y_test,y_pred)"
      ]
    },
    {
      "cell_type": "code",
      "execution_count": null,
      "metadata": {
        "id": "3fXhk7AnVl77"
      },
      "outputs": [],
      "source": [
        "from sklearn.metrics import classification_report\n",
        "print(classification_report(y_test,y_pred))"
      ]
    },
    {
      "cell_type": "code",
      "execution_count": null,
      "metadata": {
        "id": "wBXJ37BEV-J6"
      },
      "outputs": [],
      "source": [
        "dataset"
      ]
    },
    {
      "cell_type": "code",
      "execution_count": null,
      "metadata": {
        "id": "xt62A8HpVxVK"
      },
      "outputs": [],
      "source": [
        "#Sigmoid graph plotting\n",
        "plt.scatter(dataset['TotalVisits'],dataset['Converted'])\n",
        "sns.regplot(x='TotalVisits',y='Converted',data=dataset,logistic=True)"
      ]
    },
    {
      "cell_type": "markdown",
      "metadata": {
        "id": "XsvW0whCdqpM"
      },
      "source": [
        "Model Summary"
      ]
    },
    {
      "cell_type": "code",
      "execution_count": null,
      "metadata": {
        "id": "BQSrB_t-bjto"
      },
      "outputs": [],
      "source": [
        "import statsmodels.api as sm"
      ]
    },
    {
      "cell_type": "code",
      "execution_count": null,
      "metadata": {
        "id": "S3YD3NdQa5GB"
      },
      "outputs": [],
      "source": [
        "x1=dataset.drop(['Converted'],axis=1)\n",
        "y1=dataset['Converted']"
      ]
    },
    {
      "cell_type": "code",
      "execution_count": null,
      "metadata": {
        "id": "-PEVmW76dJY_"
      },
      "outputs": [],
      "source": [
        "x_train,x_test,y_train,y_test=train_test_split(x1,y1,test_size=0.2,random_state=1)"
      ]
    },
    {
      "cell_type": "code",
      "execution_count": null,
      "metadata": {
        "id": "KwB8up_UbrHP"
      },
      "outputs": [],
      "source": [
        "x_tr=sm.add_constant(x_train)\n",
        "y_train"
      ]
    },
    {
      "cell_type": "code",
      "execution_count": null,
      "metadata": {
        "id": "dwOQA7vVb4Rf",
        "colab": {
          "base_uri": "https://localhost:8080/",
          "height": 183
        },
        "outputId": "fe0c06f3-9e96-4ca0-f111-9a7be325b384"
      },
      "outputs": [
        {
          "output_type": "error",
          "ename": "NameError",
          "evalue": "ignored",
          "traceback": [
            "\u001b[0;31m---------------------------------------------------------------------------\u001b[0m",
            "\u001b[0;31mNameError\u001b[0m                                 Traceback (most recent call last)",
            "\u001b[0;32m<ipython-input-3-7ea4792015a8>\u001b[0m in \u001b[0;36m<module>\u001b[0;34m\u001b[0m\n\u001b[0;32m----> 1\u001b[0;31m \u001b[0mmod4\u001b[0m\u001b[0;34m=\u001b[0m\u001b[0msm\u001b[0m\u001b[0;34m.\u001b[0m\u001b[0mMNLogit\u001b[0m\u001b[0;34m(\u001b[0m\u001b[0my_train\u001b[0m\u001b[0;34m,\u001b[0m\u001b[0mx_train\u001b[0m\u001b[0;34m)\u001b[0m\u001b[0;34m.\u001b[0m\u001b[0mfit\u001b[0m\u001b[0;34m(\u001b[0m\u001b[0;34m)\u001b[0m\u001b[0;34m\u001b[0m\u001b[0;34m\u001b[0m\u001b[0m\n\u001b[0m\u001b[1;32m      2\u001b[0m \u001b[0mprint\u001b[0m\u001b[0;34m(\u001b[0m\u001b[0mmod4\u001b[0m\u001b[0;34m.\u001b[0m\u001b[0msummary\u001b[0m\u001b[0;34m(\u001b[0m\u001b[0;34m)\u001b[0m\u001b[0;34m)\u001b[0m\u001b[0;34m\u001b[0m\u001b[0;34m\u001b[0m\u001b[0m\n",
            "\u001b[0;31mNameError\u001b[0m: name 'y_train' is not defined"
          ]
        }
      ],
      "source": [
        "mod4=sm.MNLogit(y_train,x_train).fit()\n",
        "print(mod4.summary())"
      ]
    },
    {
      "cell_type": "code",
      "execution_count": null,
      "metadata": {
        "id": "x0YOb5qCdApz"
      },
      "outputs": [],
      "source": []
    },
    {
      "cell_type": "markdown",
      "metadata": {
        "id": "Azn7iPlTeiZn"
      },
      "source": [
        "![image.png](data:image/png;base64,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)"
      ]
    },
    {
      "cell_type": "code",
      "execution_count": null,
      "metadata": {
        "id": "abenTA3Tei8n"
      },
      "outputs": [],
      "source": []
    }
  ],
  "metadata": {
    "colab": {
      "provenance": []
    },
    "kernelspec": {
      "display_name": "Python 3",
      "name": "python3"
    },
    "language_info": {
      "name": "python"
    }
  },
  "nbformat": 4,
  "nbformat_minor": 0
}